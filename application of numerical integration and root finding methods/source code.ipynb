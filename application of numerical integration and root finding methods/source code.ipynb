{
  "nbformat": 4,
  "nbformat_minor": 0,
  "metadata": {
    "colab": {
      "name": "pratice1.ipynb",
      "provenance": [],
      "collapsed_sections": []
    },
    "kernelspec": {
      "name": "python3",
      "display_name": "Python 3"
    },
    "language_info": {
      "name": "python"
    }
  },
  "cells": [
    {
      "cell_type": "markdown",
      "source": [
        "***EXERCISE 1***"
      ],
      "metadata": {
        "id": "jzMwd5j47vvr"
      }
    },
    {
      "cell_type": "markdown",
      "source": [
        "\n",
        "We first start by developing a method to approximate the integral part of our function, in this first section, the composite simpson method.\n",
        "\n",
        "$$g(x) = \\int_{0}^{x} \\frac{1}{2\\pi} e^{-t^{2}}dt$$\n"
      ],
      "metadata": {
        "id": "SAXhVE0yuc5G"
      }
    },
    {
      "cell_type": "code",
      "source": [
        "import numpy as np\n",
        "import math\n",
        "# used for typehints in function declarations\n",
        "from typing import Union\n",
        "\n",
        "def comp_simpson(x: Union[float, int], h:float, *,rdec = None, fun=lambda s: (1/(math.sqrt(2*3.1415926535897))*np.exp(-pow(s, 2)/2))) -> float:\n",
        "  n = int(x/h)\n",
        "  xvals = np.arange(0, x, h)\n",
        "  # allows for a parameter to round result\n",
        "  return round((h/3)*(  fun(0) + fun(x) + 2*sum(map(fun, xvals[:n - 2:2])) + 4*sum(map(fun, xvals[1: n - 1: 2]))), rdec) if rdec is not None else (h/3)*(  fun(0) + fun(x) + 2*sum(map(fun, xvals[:n - 2:2])) + 4*sum(map(fun, xvals[1: n - 1: 2])))\n",
        "\n"
      ],
      "metadata": {
        "id": "ivs7ZbVfutnZ"
      },
      "execution_count": 53,
      "outputs": []
    },
    {
      "cell_type": "markdown",
      "source": [
        "Now we proceed by considering some test cases to check the function works properly"
      ],
      "metadata": {
        "id": "wX-PFitKw_yG"
      }
    },
    {
      "cell_type": "code",
      "source": [
        "# the assertions must work\n",
        "assert comp_simpson(1, 1/1000, rdec = 3, fun = lambda s:s) == 0.498\n",
        "assert comp_simpson(1, 1/10000, rdec = 3, fun = lambda s: s) == 0.5\n",
        "assert comp_simpson(1, 1/1000, fun = lambda s: s**2) == 0.3313386626666667"
      ],
      "metadata": {
        "id": "tZUBqR-bxgp2"
      },
      "execution_count": 6,
      "outputs": []
    },
    {
      "cell_type": "markdown",
      "source": [
        "Now we get back to coding the Newton's method for the given function\n",
        "\n",
        "$$f(x) = \\int_{0}^{x} \\frac{1}{2\\pi} e^{\\frac{-t^{2}}{2}}dt - 0.45$$\n",
        "\n",
        "\n",
        "We recall that Newton's method is given by: \n",
        "\n",
        "$$x_{n + 1} = x_{n} - \\frac{f(x_{n})}{f'(x_{n})}$$\n",
        "\n",
        "Since we know that integration and differentiation are inverse operations we have that: \n",
        " $$f'(x) = \\frac{1}{2\\pi} e^{\\frac{-x^{2}}{2}}$$\n",
        "\n"
      ],
      "metadata": {
        "id": "DyTPdEKKzQ6W"
      }
    },
    {
      "cell_type": "code",
      "source": [
        "# f and fprime are defined as input parameters to the function so that there is no need to code another method for the following section\n",
        "def newton(p0 = 0.5, *, tol = 1e-5,f=lambda x: comp_simpson(x, 1/100000) - 0.45, fprime=lambda x: 1/(math.sqrt(2*3.1415926535897))*np.exp(-pow(x, 2)/2)):\n",
        "  while (abs(f(p0)) >= tol):\n",
        "    p0 -= (f(p0))/(fprime(p0))\n",
        "  return p0, f(p0)\n",
        "\n",
        "\n",
        "res, im = newton()\n",
        "print(f\"{(res,im)}\")"
      ],
      "metadata": {
        "colab": {
          "base_uri": "https://localhost:8080/"
        },
        "id": "Z52yKbNl0LRw",
        "outputId": "c06f73be-1a59-4c68-db63-960f7a3d8e04"
      },
      "execution_count": 54,
      "outputs": [
        {
          "output_type": "stream",
          "name": "stdout",
          "text": [
            "(1.64481821376159, -2.871489015288109e-06)\n"
          ]
        }
      ]
    },
    {
      "cell_type": "markdown",
      "source": [
        "We find that the solution for which the root is found is: \n",
        "\n",
        "  $$p0 = 1.64481821376159$$\n",
        "\n",
        "It is important to notice that for smaller values of $h$ as inputs to the composite simpson algorithms, newtons method did not converge, observing this, we stochastically reduced this value until convergence was reached."
      ],
      "metadata": {
        "id": "aFp8-9Od3PJo"
      }
    },
    {
      "cell_type": "markdown",
      "source": [
        "Consequently, we code a function for the composite trapezoidal method."
      ],
      "metadata": {
        "id": "-OUeo8y14uUZ"
      }
    },
    {
      "cell_type": "code",
      "source": [
        "def trapezoidal(x: Union[float, int], h: float, *, rdec=None, fun = lambda s: (1/(math.sqrt(2*3.1415926535897))*np.exp(-pow(s, 2)/2))) -> float:\n",
        "  xvals = np.arange(0, x, h)\n",
        "  s = 0\n",
        "  for idx, val in enumerate(xvals[1:]): s += fun(val) + fun(xvals[idx - 1])\n",
        "  return round((h/2)*s, rdec) if rdec is not None else (h/2)*s"
      ],
      "metadata": {
        "id": "P0WMEggz4tSx"
      },
      "execution_count": 55,
      "outputs": []
    },
    {
      "cell_type": "markdown",
      "source": [
        "We proceed by including some test cases to check that the function works properly, which we find that it does"
      ],
      "metadata": {
        "id": "Cw_yMPJNTx-c"
      }
    },
    {
      "cell_type": "code",
      "source": [
        "assert trapezoidal(1, 1/100, fun = lambda s: s) == 0.4901\n",
        "assert trapezoidal(1, 1/1000, rdec = 2, fun = lambda s: s**3) == 0.25"
      ],
      "metadata": {
        "id": "3EB6uA6wT4bk"
      },
      "execution_count": 56,
      "outputs": []
    },
    {
      "cell_type": "markdown",
      "source": [
        "Now we proceed to test the newtons method when the approximation of the integral part of the function is given by the trapezoidal rule instead of  simpson's rule"
      ],
      "metadata": {
        "id": "zYXVX5nYUpsF"
      }
    },
    {
      "cell_type": "code",
      "source": [
        "res, im = newton(f = lambda x: trapezoidal(x, 1/100000) - 0.45)\n",
        "print(f\"{res,im}\")"
      ],
      "metadata": {
        "colab": {
          "base_uri": "https://localhost:8080/"
        },
        "id": "KuCItK6fUzoN",
        "outputId": "8332fb1f-055a-46f6-f7c6-0fc9eeda1403"
      },
      "execution_count": 57,
      "outputs": [
        {
          "output_type": "stream",
          "name": "stdout",
          "text": [
            "(1.6448169811111442, -4.499664908619305e-06)\n"
          ]
        }
      ]
    },
    {
      "cell_type": "markdown",
      "source": [
        "***EXERCISE 2***\n",
        "\n"
      ],
      "metadata": {
        "id": "oLovbT4S4HU3"
      }
    },
    {
      "cell_type": "markdown",
      "source": [
        "We want to compute the value of the following integral, without explicitly using numerical integration schemes such as simpson's or trapezoidal\n",
        "\n",
        "$$f(x) = \\int_{0}^{5} \\sqrt{1 + t^3} dt$$\n",
        "\n",
        "\n",
        "We must perform some action to get an initial value problem from this integral in order to be able to approximate it through ODE solving methods, i.e, a problem of the form \n",
        "  $$ y'(t) = g(t,y)$$\n",
        "  $$y(x_0) = y_0$$\n",
        "\n",
        "Since we know that without being given an initial condition, solving the integral will result in a family of solutions, we are going to assume that the initial condition for this case is \n",
        "$$y(0) = 1$$"
      ],
      "metadata": {
        "id": "9fNd7XABzFQl"
      }
    },
    {
      "cell_type": "markdown",
      "source": [
        "We will have that after solving the IVP, \n",
        "$$y(x_i) = \\int_{0}^{x_i} \\sqrt{1 + t^3}dt$$\n"
      ],
      "metadata": {
        "id": "MQohu1V4CGwG"
      }
    },
    {
      "cell_type": "markdown",
      "source": [
        "We will first code the method corresponding to the explicit Euler's scheme"
      ],
      "metadata": {
        "id": "q8Q11f9u1fWn"
      }
    },
    {
      "cell_type": "code",
      "source": [
        "def e_euler(y0:Union[float, int], h,*, upper=5, f=lambda t: math.sqrt(1 + t**3)):\n",
        "  xvals = np.arange(0, upper, h)\n",
        "  y = np.zeros(len(xvals))\n",
        "  y[0] = y0\n",
        "  for idx, value in enumerate(xvals[1:]):\n",
        "    y[idx + 1] = y[idx] + h*f(xvals[idx])\n",
        "  return xvals, y"
      ],
      "metadata": {
        "id": "aqaOnnhH1l51"
      },
      "execution_count": 58,
      "outputs": []
    },
    {
      "cell_type": "markdown",
      "source": [
        "Now we will code the method corresponding to the implicit Euler's scheme"
      ],
      "metadata": {
        "id": "kJxfgof-HAC3"
      }
    },
    {
      "cell_type": "code",
      "source": [
        "def i_euler(y0: Union[float, int], h: float,*, upper=5, f = lambda t: math.sqrt(1 + t**3)):\n",
        "  xvals = np.arange(0, upper, h)\n",
        "  y = np.zeros(len(xvals))\n",
        "  y[0] = y0\n",
        "  for idx, value in enumerate(xvals[1:]):\n",
        "    y[idx + 1] = y[idx] + h*f(xvals[idx + 1])\n",
        "  return xvals, y"
      ],
      "metadata": {
        "id": "PPWMDCQyHFIt"
      },
      "execution_count": 59,
      "outputs": []
    },
    {
      "cell_type": "code",
      "source": [
        "import matplotlib.pyplot as plt\n",
        "\n",
        "\n",
        "x,y = e_euler(0, 1/100)\n",
        "# since they  are both called for the same value of h and the same upper, the returned x array will be the same\n",
        "_, y2 = i_euler(0, 1/100)\n",
        "plt.plot(x,y)\n",
        "plt.plot(x, y2)\n",
        "plt.grid()\n",
        "plt.legend(['Explicit Euler', 'Implicit Euler'])\n",
        "plt.title(\"Approximate solution of the IVP using Euler's method\")\n",
        "plt.show()"
      ],
      "metadata": {
        "colab": {
          "base_uri": "https://localhost:8080/",
          "height": 281
        },
        "id": "uoP1vssIFJWd",
        "outputId": "12a7ef84-92d7-47cb-fb9f-d0353329d4a6"
      },
      "execution_count": 60,
      "outputs": [
        {
          "output_type": "display_data",
          "data": {
            "text/plain": [
              "<Figure size 432x288 with 1 Axes>"
            ],
            "image/png": "[encoded data removed]"
          },
          "metadata": {
            "needs_background": "light"
          }
        }
      ]
    },
    {
      "cell_type": "markdown",
      "source": [
        "Graphically we see no noticeable difference between the two methods for that particular value of h. Now we proceed to compare the difference in the results of both of the methods for different values of h, by seeing what's the point of maximum divergence between the two of them."
      ],
      "metadata": {
        "id": "-EQAV-ABIpqK"
      }
    },
    {
      "cell_type": "code",
      "source": [
        "# vector where errors are stored\n",
        "div = []\n",
        "hs = [1/pow(2,i) for i in range(10)]\n",
        "for h in hs:\n",
        "  _,y = e_euler(0, h)\n",
        "  _, y2 = i_euler(0, h)\n",
        "  div.append(max((abs(y[idx] - val) for idx,val in enumerate(y2))))\n",
        "\n",
        "plt.stem(hs, div)\n",
        "plt.grid()\n",
        "plt.title(\"Divergence between Euler's methods\")"
      ],
      "metadata": {
        "colab": {
          "base_uri": "https://localhost:8080/",
          "height": 353
        },
        "id": "aALQq7m3I1Tn",
        "outputId": "643c32ab-ec2c-4a06-914a-e4fffeff174c"
      },
      "execution_count": 64,
      "outputs": [
        {
          "output_type": "stream",
          "name": "stderr",
          "text": [
            "/usr/local/lib/python3.7/dist-packages/ipykernel_launcher.py:9: UserWarning: In Matplotlib 3.3 individual lines on a stem plot will be added as a LineCollection instead of individual lines. This significantly improves the performance of a stem plot. To remove this warning and switch to the new behaviour, set the \"use_line_collection\" keyword argument to True.\n",
            "  if __name__ == '__main__':\n"
          ]
        },
        {
          "output_type": "execute_result",
          "data": {
            "text/plain": [
              "Text(0.5, 1.0, \"Divergence between Euler's methods\")"
            ]
          },
          "metadata": {},
          "execution_count": 64
        },
        {
          "output_type": "display_data",
          "data": {
            "text/plain": [
              "<Figure size 432x288 with 1 Axes>"
            ],
            "image/png": "[encoded data removed]"
          },
          "metadata": {
            "needs_background": "light"
          }
        }
      ]
    }
  ]
}