{
  "nbformat": 4,
  "nbformat_minor": 0,
  "metadata": {
    "colab": {
      "name": "pratice1.ipynb",
      "provenance": [],
      "collapsed_sections": []
    },
    "kernelspec": {
      "name": "python3",
      "display_name": "Python 3"
    },
    "language_info": {
      "name": "python"
    }
  },
  "cells": [
    {
      "cell_type": "markdown",
      "source": [
        "***EXERCISE 1***"
      ],
      "metadata": {
        "id": "jzMwd5j47vvr"
      }
    },
    {
      "cell_type": "markdown",
      "source": [
        "\n",
        "We first start by developing a method to approximate the integral part of our function, in this first section, the composite simpson method.\n",
        "\n",
        "$$g(x) = \\int_{0}^{x} \\frac{1}{2\\pi} e^{\frac{-t^{2}}{2}}dt$$\n"
      ],
      "metadata": {
        "id": "SAXhVE0yuc5G"
      }
    },
    {
      "cell_type": "code",
      "source": [
        "import numpy as np\n",
        "import math\n",
        "# used for typehints in function declarations\n",
        "from typing import Union, Tuple\n",
        "\n",
        "def comp_simpson(x: Union[float, int], h:float, *,rdec = None, fun=lambda s: (1/(math.sqrt(2*3.1415926535897))*np.exp(-pow(s, 2)/2))) -> float:\n",
        "  n = int(x/h)\n",
        "  xvals = np.arange(0, x, h)\n",
        "  # allows for a parameter to round result\n",
        "  return round((h/3)*(  fun(0) + fun(x) + 2*sum(map(fun, xvals[:n - 2:2])) + 4*sum(map(fun, xvals[1: n - 1: 2]))), rdec) if rdec is not None else (h/3)*(  fun(0) + fun(x) + 2*sum(map(fun, xvals[:n - 2:2])) + 4*sum(map(fun, xvals[1: n - 1: 2])))\n",
        "\n"
      ],
      "metadata": {
        "id": "ivs7ZbVfutnZ"
      },
      "execution_count": 1,
      "outputs": []
    },
    {
      "cell_type": "markdown",
      "source": [
        "Now we proceed by considering some test cases to check the function works properly"
      ],
      "metadata": {
        "id": "wX-PFitKw_yG"
      }
    },
    {
      "cell_type": "code",
      "source": [
        "# the assertions must work\n",
        "assert comp_simpson(1, 1/1000, rdec = 3, fun = lambda s:s) == 0.498\n",
        "assert comp_simpson(1, 1/10000, rdec = 3, fun = lambda s: s) == 0.5\n",
        "assert comp_simpson(1, 1/1000, fun = lambda s: s**2) == 0.3313386626666667"
      ],
      "metadata": {
        "id": "tZUBqR-bxgp2"
      },
      "execution_count": 2,
      "outputs": []
    },
    {
      "cell_type": "markdown",
      "source": [
        "Now we get back to coding the Newton's method for the given function\n",
        "\n",
        "$$f(x) = \\int_{0}^{x} \\frac{1}{2\\pi} e^{\\frac{-t^{2}}{2}}dt - 0.45$$\n",
        "\n",
        "\n",
        "We recall that Newton's method is given by: \n",
        "\n",
        "$$x_{n + 1} = x_{n} - \\frac{f(x_{n})}{f'(x_{n})}$$\n",
        "\n",
        "Since we know that integration and differentiation are inverse operations we have that: \n",
        " $$f'(x) = \\frac{1}{2\\pi} e^{\\frac{-x^{2}}{2}}$$\n",
        "\n"
      ],
      "metadata": {
        "id": "DyTPdEKKzQ6W"
      }
    },
    {
      "cell_type": "code",
      "source": [
        "# f and fprime are defined as input parameters to the function so that there is no need to code another method for the following section\n",
        "def newton(p0 = 0.5, *, tol = 1e-5,f=lambda x: comp_simpson(x, 1/100000) - 0.45, fprime=lambda x: 1/(math.sqrt(2*3.1415926535897))*np.exp(-pow(x, 2)/2)):\n",
        "  while (abs(f(p0)) >= tol):\n",
        "    p0 -= (f(p0))/(fprime(p0))\n",
        "  return p0, f(p0)\n",
        "\n",
        "\n",
        "res, im = newton()\n",
        "print(f\"{(res,im)}\")"
      ],
      "metadata": {
        "colab": {
          "base_uri": "https://localhost:8080/"
        },
        "id": "Z52yKbNl0LRw",
        "outputId": "805a4be3-2562-451b-d5e9-e3a1780cf1e3"
      },
      "execution_count": 3,
      "outputs": [
        {
          "output_type": "stream",
          "name": "stdout",
          "text": [
            "(1.64481821376159, -2.871489015288109e-06)\n"
          ]
        }
      ]
    },
    {
      "cell_type": "markdown",
      "source": [
        "We find that the solution for which the root is found is: \n",
        "\n",
        "  $$p0 = 1.64481821376159$$\n",
        "\n",
        "It is important to notice that for smaller values of $h$ as inputs to the composite simpson algorithms, newtons method did not converge, observing this, we stochastically reduced this value until convergence was reached."
      ],
      "metadata": {
        "id": "aFp8-9Od3PJo"
      }
    },
    {
      "cell_type": "markdown",
      "source": [
        "Consequently, we code a function for the composite trapezoidal method."
      ],
      "metadata": {
        "id": "-OUeo8y14uUZ"
      }
    },
    {
      "cell_type": "code",
      "source": [
        "def trapezoidal(x: Union[float, int], h: float, *, rdec=None, fun = lambda s: (1/(math.sqrt(2*3.1415926535897))*np.exp(-pow(s, 2)/2))) -> float:\n",
        "  xvals = np.arange(0, x, h)\n",
        "  s = 0\n",
        "  for idx, val in enumerate(xvals[1:]): s += fun(val) + fun(xvals[idx - 1])\n",
        "  return round((h/2)*s, rdec) if rdec is not None else (h/2)*s"
      ],
      "metadata": {
        "id": "P0WMEggz4tSx"
      },
      "execution_count": 5,
      "outputs": []
    },
    {
      "cell_type": "markdown",
      "source": [
        "We proceed by including some test cases to check that the function works properly, which we find that it does"
      ],
      "metadata": {
        "id": "Cw_yMPJNTx-c"
      }
    },
    {
      "cell_type": "code",
      "source": [
        "assert trapezoidal(1, 1/100, fun = lambda s: s) == 0.4901\n",
        "assert trapezoidal(1, 1/1000, rdec = 2, fun = lambda s: s**3) == 0.25"
      ],
      "metadata": {
        "id": "3EB6uA6wT4bk"
      },
      "execution_count": 6,
      "outputs": []
    },
    {
      "cell_type": "markdown",
      "source": [
        "Now we proceed to test the newtons method when the approximation of the integral part of the function is given by the trapezoidal rule instead of  simpson's rule"
      ],
      "metadata": {
        "id": "zYXVX5nYUpsF"
      }
    },
    {
      "cell_type": "code",
      "source": [
        "res, im = newton(f = lambda x: trapezoidal(x, 1/100000) - 0.45)\n",
        "print(f\"{res,im}\")"
      ],
      "metadata": {
        "colab": {
          "base_uri": "https://localhost:8080/"
        },
        "id": "KuCItK6fUzoN",
        "outputId": "be62503d-c60d-4258-c68f-3e7443ad1252"
      },
      "execution_count": 7,
      "outputs": [
        {
          "output_type": "stream",
          "name": "stdout",
          "text": [
            "(1.6448169811111442, -4.499664908619305e-06)\n"
          ]
        }
      ]
    },
    {
      "cell_type": "markdown",
      "source": [
        "***EXERCISE 2***\n",
        "\n"
      ],
      "metadata": {
        "id": "oLovbT4S4HU3"
      }
    },
    {
      "cell_type": "markdown",
      "source": [
        "We want to compute the value of the following integral, without explicitly using numerical integration schemes such as simpson's or trapezoidal\n",
        "\n",
        "$$f(x) = \\int_{0}^{x} \\sqrt{1 + t^3} dt$$\n",
        "\n",
        "Where  $0 \\leq x \\leq 5.$\n",
        "\n",
        "We must perform some action to get an initial value problem from this integral in order to be able to approximate it through ODE solving methods, i.e, a problem of the form \n",
        "  $$ y'(t) = g(t,y)$$\n",
        "  $$y(x_0) = y_0$$\n",
        "\n",
        "Since we know that without being given an initial condition, solving the integral will result in a family of solutions, we are going to assume that the initial condition for this case is \n",
        "$$y(0) = 1$$"
      ],
      "metadata": {
        "id": "9fNd7XABzFQl"
      }
    },
    {
      "cell_type": "markdown",
      "source": [
        "We will have that after solving the IVP, \n",
        "$$y(x_i) = \\int_{0}^{x_i} \\sqrt{1 + t^3}dt$$\n"
      ],
      "metadata": {
        "id": "MQohu1V4CGwG"
      }
    },
    {
      "cell_type": "markdown",
      "source": [
        "We code both versions of Euler's method"
      ],
      "metadata": {
        "id": "q8Q11f9u1fWn"
      }
    },
    {
      "cell_type": "code",
      "source": [
        "def e_euler(y0:Union[float, int], h,*, upper=5, f=lambda t: math.sqrt(1 + t**3)) -> Tuple[np.ndarray, np.ndarray]:\n",
        "  xvals = np.arange(0, upper, h)\n",
        "  y = np.zeros(len(xvals))\n",
        "  y[0] = y0\n",
        "  for idx, value in enumerate(xvals[1:]):\n",
        "    y[idx + 1] = y[idx] + h*f(xvals[idx])\n",
        "  return xvals, y\n",
        "  \n",
        "\n",
        "def i_euler(y0: Union[float, int], h: float,*, upper=5, f = lambda t: math.sqrt(1 + t**3)) -> Tuple[np.ndarray, np.ndarray]:\n",
        "  xvals = np.arange(0, upper, h)\n",
        "  y = np.zeros(len(xvals))\n",
        "  y[0] = y0\n",
        "  for idx, value in enumerate(xvals[1:]):\n",
        "    # f is a function just of t and not of y, so there's is no need to approximate y[idx + 1] with explicit euler to use it as input for \n",
        "    # the actual implicit approximation of y[idx + 1] given by implicit euler, this is called a predictor-corrector approach.\n",
        "    y[idx + 1] = y[idx] + h*f(xvals[idx + 1])\n",
        "  return xvals, y"
      ],
      "metadata": {
        "id": "aqaOnnhH1l51"
      },
      "execution_count": 8,
      "outputs": []
    },
    {
      "cell_type": "code",
      "source": [
        "import matplotlib.pyplot as plt\n",
        "\n",
        "\n",
        "x,y = e_euler(0, 1/100)\n",
        "# since they  are both called for the same value of h and the same upper, the returned x array will be the same, so we ignore the second one\n",
        "_, y2 = i_euler(0, 1/100)\n",
        "plt.plot(x,y)\n",
        "plt.plot(x, y2)\n",
        "plt.grid()\n",
        "plt.legend(['Explicit Euler', 'Implicit Euler'])\n",
        "plt.title(\"Approximate solution of the IVP using Euler's method\")\n",
        "plt.show()"
      ],
      "metadata": {
        "colab": {
          "base_uri": "https://localhost:8080/",
          "height": 281
        },
        "id": "uoP1vssIFJWd",
        "outputId": "9c322ac8-1adb-42b6-96f6-21684f445564"
      },
      "execution_count": 9,
      "outputs": [
        {
          "output_type": "display_data",
          "data": {
            "text/plain": [
              "<Figure size 432x288 with 1 Axes>"
            ],
            "image/png": "[encoded data removed]"
          },
          "metadata": {
            "needs_background": "light"
          }
        }
      ]
    },
    {
      "cell_type": "markdown",
      "source": [
        "Graphically we see no noticeable difference between the two methods for that particular value of h. Now we proceed to compare the difference in the results of both of the methods for different values of h, by seeing what's the point of maximum divergence between the two of them."
      ],
      "metadata": {
        "id": "-EQAV-ABIpqK"
      }
    },
    {
      "cell_type": "code",
      "source": [
        "# vector where errors are stored\n",
        "div = []\n",
        "hs = [1/pow(2,i) for i in range(20)]\n",
        "for h in hs:\n",
        "  _,y = e_euler(0, h)\n",
        "  _, y2 = i_euler(0, h)\n",
        "  div.append(max((abs(y[idx] - val) for idx,val in enumerate(y2))))\n",
        "\n",
        "plt.stem(hs, div, use_line_collection=True)\n",
        "plt.plot(hs, div)\n",
        "plt.grid()\n",
        "plt.title(\"Divergence between Euler's methods\")\n",
        "plt.show()"
      ],
      "metadata": {
        "colab": {
          "base_uri": "https://localhost:8080/",
          "height": 281
        },
        "id": "aALQq7m3I1Tn",
        "outputId": "0832ecf0-3dba-4eed-ff47-7155f7f50642"
      },
      "execution_count": 10,
      "outputs": [
        {
          "output_type": "display_data",
          "data": {
            "text/plain": [
              "<Figure size 432x288 with 1 Axes>"
            ],
            "image/png": "[encoded data removed]"
          },
          "metadata": {
            "needs_background": "light"
          }
        }
      ]
    },
    {
      "cell_type": "code",
      "source": [
        "print(min(div), min(hs))"
      ],
      "metadata": {
        "colab": {
          "base_uri": "https://localhost:8080/"
        },
        "id": "3h3HdN7BEYfY",
        "outputId": "f7fdf6bb-5358-457a-ce01-260d35d5b2ef"
      },
      "execution_count": 11,
      "outputs": [
        {
          "output_type": "stream",
          "name": "stdout",
          "text": [
            "1.950257451710513e-05 1.9073486328125e-06\n"
          ]
        }
      ]
    }
  ]
}
